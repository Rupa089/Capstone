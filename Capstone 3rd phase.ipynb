{
 "cells": [
  {
   "cell_type": "markdown",
   "id": "9ed70743",
   "metadata": {},
   "source": [
    "# Phase 3: SQL Queries"
   ]
  },
  {
   "cell_type": "code",
   "execution_count": 5,
   "id": "14d0b3d1",
   "metadata": {},
   "outputs": [],
   "source": [
    "import sqlite3\n",
    "import csv\n",
    "import chardet\n",
    "import pandas as pd"
   ]
  },
  {
   "cell_type": "code",
   "execution_count": 6,
   "id": "0d25a2e9",
   "metadata": {},
   "outputs": [],
   "source": [
    "db=sqlite3.connect(\"crime_database\")\n",
    "cursor=db.cursor()"
   ]
  },
  {
   "cell_type": "code",
   "execution_count": 7,
   "id": "77a7319f",
   "metadata": {},
   "outputs": [],
   "source": [
    "# Check if the table exists\n",
    "cursor.execute(\"SELECT name FROM sqlite_master WHERE type='table' AND name='crime_against_women_new1'\")\n",
    "if cursor.fetchone() is None:\n",
    "    # Table doesn't exist, create it\n",
    "    cursor.execute(\"CREATE TABLE crime_against_women_new1(state UT TEXT,DISTRICT TEXT,Year INT,Rape INT,Kidnapping INT,Dowry Deaths INT,Assault INT,Insult  INT,Cruelty by Husband  INT,Importation of Girls INT)\")\n",
    "    db.commit()\n"
   ]
  },
  {
   "cell_type": "markdown",
   "id": "7466043f",
   "metadata": {},
   "source": [
    "# 3.1 Creating a table with the entries from 42_District_wise_crimes_committed_against_women_2001_2012.csv."
   ]
  },
  {
   "cell_type": "code",
   "execution_count": 8,
   "id": "1e61d7d4",
   "metadata": {},
   "outputs": [],
   "source": [
    "with open(r\"C:\\Users\\rupad\\42_District_wise_crimes_committed_against_women_2001_2012.csv\", 'r') as file:\n",
    "    no_records = 0\n",
    "    for row in file:\n",
    "        cursor.execute(\"INSERT INTO crime_against_women_new1 VALUES(?,?,?,?,?,?,?,?,?,?)\", row.split(\",\"))\n",
    "        db.commit()"
   ]
  },
  {
   "cell_type": "code",
   "execution_count": null,
   "id": "bd7c4438",
   "metadata": {},
   "outputs": [],
   "source": [
    "print(no_records,'Records Inserted')"
   ]
  },
  {
   "cell_type": "markdown",
   "id": "f6af5dce",
   "metadata": {},
   "source": [
    "# 3.2 Creating an SQL query to determine which state, district, and year had the most number of rapes and kidnappings."
   ]
  },
  {
   "cell_type": "code",
   "execution_count": 9,
   "id": "731966b5",
   "metadata": {},
   "outputs": [
    {
     "name": "stdout",
     "output_type": "stream",
     "text": [
      "('STATE/UT', 'DISTRICT', 'Year', 'Rape', 'Kidnapping and Abduction')\n",
      "('WEST BENGAL', 'MURSHIDABAD', 2011, 433, 492)\n",
      "('WEST BENGAL', 'MURSHIDABAD', 2012, 257, 464)\n",
      "('WEST BENGAL', 'MURSHIDABAD', 2010, 526, 441)\n",
      "('DELHI', 'NORTH-WEST', 2005, 236, 349)\n",
      "('WEST BENGAL', 'MURSHIDABAD', 2009, 568, 342)\n",
      "('UTTAR PRADESH', 'LUCKNOW', 2008, 334, 331)\n",
      "('DELHI', 'NORTH WEST', 2001, 145, 298)\n",
      "('DELHI', 'NORTH-WEST', 2006, 224, 287)\n",
      "('DELHI', 'NORTH WEST', 2002, 159, 259)\n",
      "('DELHI', 'OUTER', 2007, 369, 237)\n",
      "('ASSAM', 'GUWAHATI CITY', 2004, 197, 228)\n",
      "('DELHI', 'NORTH WEST', 2003, 137, 191)\n"
     ]
    }
   ],
   "source": [
    "result=cursor.execute(\"SELECT  state UT, DISTRICT ,Year ,MAX(Rape), MAX(Kidnapping) FROM crime_against_women_new1 WHERE NOT DISTRICT='TOTAL' AND NOT DISTRICT='DELHI UT TOTAL' GROUP BY Year ORDER BY Kidnapping DESC\")\n",
    "for row in result:\n",
    "    print(row)"
   ]
  },
  {
   "cell_type": "markdown",
   "id": "887fb79d",
   "metadata": {},
   "source": [
    "The highest district and state in terms of rape and kidnapping incidents is Murshidabad District in West Bengal (which had 568 rape cases and 492 kidnapping cases in 2011)."
   ]
  },
  {
   "cell_type": "markdown",
   "id": "a807a070",
   "metadata": {},
   "source": [
    "# 3.3 Creating an SQL query to determine which state, district, and year had the fewest rapes and kidnappings."
   ]
  },
  {
   "cell_type": "code",
   "execution_count": 10,
   "id": "12dbb4a9",
   "metadata": {},
   "outputs": [
    {
     "name": "stdout",
     "output_type": "stream",
     "text": [
      "('A & N ISLANDS', 'NICOBAR', 2001, 0, 0)\n",
      "('ANDHRA PRADESH', 'GUNTAKAL RLY.', 2001, 0, 0)\n",
      "('ARUNACHAL PRADESH', 'TAWANG', 2001, 0, 0)\n",
      "('ASSAM', 'C.I.D.', 2001, 0, 0)\n",
      "('BIHAR', 'ARWAL', 2001, 0, 0)\n",
      "('CHHATTISGARH', 'BIZAPUR', 2001, 0, 0)\n",
      "('DAMAN & DIU', 'DIU', 2001, 0, 0)\n",
      "('DELHI', 'S.T.F.', 2001, 0, 0)\n",
      "('GUJARAT', 'W.RLY', 2001, 0, 0)\n",
      "('HARYANA', 'GRP', 2002, 0, 0)\n",
      "('HIMACHAL PRADESH', 'G.R.P.', 2001, 0, 0)\n",
      "('JAMMU & KASHMIR', 'CRIME JAMMU', 2001, 0, 0)\n",
      "('JHARKHAND', 'DEOGHAR', 2001, 0, 0)\n",
      "('KARNATAKA', 'CHITRADURGA', 2001, 0, 0)\n",
      "('KERALA', 'CBCID', 2001, 0, 0)\n",
      "('LAKSHADWEEP', 'LAKSHADWEEP', 2001, 0, 0)\n",
      "('MADHYA PRADESH', 'INDORE RLY.', 2001, 0, 0)\n",
      "('MAHARASHTRA', 'MUMBAI RLY.', 2001, 0, 0)\n",
      "('MANIPUR', 'CHURACHANDPUR', 2001, 0, 0)\n",
      "('MEGHALAYA', 'GARO HILLS EAST', 2001, 0, 0)\n",
      "('MIZORAM', 'AIZAWL', 2001, 0, 0)\n",
      "('NAGALAND', 'KIPHIRE', 2001, 0, 0)\n",
      "('ODISHA', 'RAYAGADA', 2001, 0, 0)\n",
      "('PUDUCHERRY', 'KARAIKAL', 2011, 0, 0)\n",
      "('PUNJAB', 'G.R.P', 2001, 0, 0)\n",
      "('RAJASTHAN', 'G.R.P.', 2003, 0, 0)\n",
      "('SIKKIM', 'NORTH', 2001, 0, 0)\n",
      "('TAMIL NADU', 'CHENNAI', 2001, 0, 0)\n",
      "('TRIPURA', 'DHALAI', 2001, 0, 0)\n",
      "('UTTAR PRADESH', 'MAHARAJGANJ', 2002, 0, 0)\n",
      "('UTTARAKHAND', 'NAINITAL', 2001, 0, 0)\n",
      "('WEST BENGAL', 'ASANSOL', 2001, 0, 0)\n",
      "('GOA', 'NORTH GOA', 2001, 3, 1)\n",
      "('D & N HAVELI', 'D and N HAVELI', 2001, 1, 2)\n",
      "('CHANDIGARH', 'CHANDIGARH', 2003, 18, 28)\n",
      "('STATE/UT', 'DISTRICT', 'Year', 'Rape', 'Kidnapping and Abduction')\n"
     ]
    }
   ],
   "source": [
    "result=cursor.execute(\"SELECT  state UT, DISTRICT ,Year ,MIN(Rape), MIN(Kidnapping) FROM crime_against_women_new1 WHERE NOT DISTRICT='TOTAL' AND NOT DISTRICT='DELHI UT TOTAL' GROUP BY UT ORDER BY Kidnapping\")\n",
    "for row in result:\n",
    "    print(row)"
   ]
  },
  {
   "cell_type": "markdown",
   "id": "01360218",
   "metadata": {},
   "source": [
    "# 3.4 Creating a new table with the records from 02_District_wise_crimes_committed_against_ST_2001_2012.csv."
   ]
  },
  {
   "cell_type": "code",
   "execution_count": 11,
   "id": "4a3fd43f",
   "metadata": {},
   "outputs": [],
   "source": [
    "# Check if the table exists\n",
    "cursor.execute(\"SELECT name FROM sqlite_master WHERE type='table' AND name='crime_against_st_new'\")\n",
    "if cursor.fetchone() is None:\n",
    "    # Table doesn't exist, create it\n",
    "    cursor.execute(\"CREATE TABLE crime_against_st_new (state UT TEXT,DISTRICT TEXT,Year INT,Murder INT,Rape INT,Kidnapping INT,Dacoity INT,Robbery INT,Arson  INT,Hurt INT,PCR INT,POA INT,Other Crimes INT)\")\n",
    "    db.commit()"
   ]
  },
  {
   "cell_type": "code",
   "execution_count": 12,
   "id": "0f65caf9",
   "metadata": {},
   "outputs": [],
   "source": [
    "with open(r\"C:\\Users\\rupad\\42_District_wise_crimes_committed_against_women_2001_2012.csv\", 'r') as file:\n",
    "    no_records = 0\n",
    "    for row in file:\n",
    "        cursor.execute(\"INSERT INTO crime_against_women_new1 VALUES(?,?,?,?,?,?,?,?,?,?)\", row.split(\",\"))\n",
    "        db.commit()"
   ]
  },
  {
   "cell_type": "markdown",
   "id": "82933129",
   "metadata": {},
   "source": [
    "# 3.5 Creating an SQL query to see which district has the most robberies or dacoities."
   ]
  },
  {
   "cell_type": "code",
   "execution_count": 14,
   "id": "758c7dc8",
   "metadata": {},
   "outputs": [],
   "source": [
    "result=cursor.execute(\"SELECT State UT,DISTRICT ,Year, MAX(Dacoity), MAX(Robbery) FROM crime_against_st_new WHERE NOT DISTRICT ='TOTAL' AND NOT DISTRICT='DELHI UT TOTAL' GROUP BY UT ORDER BY Robbery  DESC \")\n",
    "for row in result:\n",
    "    print(row)"
   ]
  },
  {
   "cell_type": "markdown",
   "id": "05b8b7ff",
   "metadata": {},
   "source": [
    "In 2001, the maximum number of Daocity and Robberies occurred in Gujarat's Dahod District."
   ]
  },
  {
   "cell_type": "markdown",
   "id": "d9736b7e",
   "metadata": {},
   "source": [
    "# 3.6 Creating an SQL query to see which districts (all) have the fewest murders."
   ]
  },
  {
   "cell_type": "code",
   "execution_count": 15,
   "id": "5efc1896",
   "metadata": {},
   "outputs": [],
   "source": [
    "result=cursor.execute(\"SELECT State UT,DISTRICT, Murder FROM crime_against_st_new WHERE Murder=(SELECT MIN(Murder) FROM crime_against_st_new) GROUP BY state \")\n",
    "for row in result:\n",
    "    print(row)"
   ]
  },
  {
   "cell_type": "code",
   "execution_count": 16,
   "id": "e213ec07",
   "metadata": {},
   "outputs": [],
   "source": [
    "result=cursor.execute(\"SELECT State UT,DISTRICT, Murder FROM crime_against_st_new WHERE Murder=(SELECT MIN(Murder) FROM crime_against_st_new) GROUP BY state \")\n",
    "for row in result:\n",
    "    print(row)"
   ]
  },
  {
   "cell_type": "code",
   "execution_count": 17,
   "id": "237fda76",
   "metadata": {
    "scrolled": true
   },
   "outputs": [
    {
     "name": "stdout",
     "output_type": "stream",
     "text": [
      "('A & N ISLANDS', 'NICOBAR', 2001, 0, 0)\n",
      "('ANDHRA PRADESH', 'GUNTAKAL RLY.', 2001, 0, 0)\n",
      "('ARUNACHAL PRADESH', 'TAWANG', 2001, 0, 0)\n",
      "('ASSAM', 'C.I.D.', 2001, 0, 0)\n",
      "('BIHAR', 'ARWAL', 2001, 0, 0)\n",
      "('CHHATTISGARH', 'BIZAPUR', 2001, 0, 0)\n",
      "('DAMAN & DIU', 'DIU', 2001, 0, 0)\n",
      "('DELHI', 'S.T.F.', 2001, 0, 0)\n",
      "('GUJARAT', 'W.RLY', 2001, 0, 0)\n",
      "('HARYANA', 'GRP', 2002, 0, 0)\n",
      "('HIMACHAL PRADESH', 'G.R.P.', 2001, 0, 0)\n",
      "('JAMMU & KASHMIR', 'CRIME JAMMU', 2001, 0, 0)\n",
      "('JHARKHAND', 'DEOGHAR', 2001, 0, 0)\n",
      "('KARNATAKA', 'CHITRADURGA', 2001, 0, 0)\n",
      "('KERALA', 'CBCID', 2001, 0, 0)\n",
      "('LAKSHADWEEP', 'LAKSHADWEEP', 2001, 0, 0)\n",
      "('MADHYA PRADESH', 'INDORE RLY.', 2001, 0, 0)\n",
      "('MAHARASHTRA', 'MUMBAI RLY.', 2001, 0, 0)\n",
      "('MANIPUR', 'CHURACHANDPUR', 2001, 0, 0)\n",
      "('MEGHALAYA', 'GARO HILLS EAST', 2001, 0, 0)\n",
      "('MIZORAM', 'AIZAWL', 2001, 0, 0)\n",
      "('NAGALAND', 'KIPHIRE', 2001, 0, 0)\n",
      "('ODISHA', 'RAYAGADA', 2001, 0, 0)\n",
      "('PUDUCHERRY', 'KARAIKAL', 2011, 0, 0)\n",
      "('PUNJAB', 'G.R.P', 2001, 0, 0)\n",
      "('RAJASTHAN', 'G.R.P.', 2003, 0, 0)\n",
      "('SIKKIM', 'NORTH', 2001, 0, 0)\n",
      "('TAMIL NADU', 'CHENNAI', 2001, 0, 0)\n",
      "('TRIPURA', 'DHALAI', 2001, 0, 0)\n",
      "('UTTAR PRADESH', 'MAHARAJGANJ', 2002, 0, 0)\n",
      "('UTTARAKHAND', 'NAINITAL', 2001, 0, 0)\n",
      "('WEST BENGAL', 'ASANSOL', 2001, 0, 0)\n",
      "('GOA', 'NORTH GOA', 2001, 3, 1)\n",
      "('D & N HAVELI', 'D and N HAVELI', 2001, 1, 2)\n",
      "('CHANDIGARH', 'CHANDIGARH', 2003, 18, 28)\n",
      "('STATE/UT', 'DISTRICT', 'Year', 'Rape', 'Kidnapping and Abduction')\n"
     ]
    }
   ],
   "source": [
    "result=cursor.execute(\"SELECT  state UT, DISTRICT ,Year ,MIN(Rape), MIN(Kidnapping) FROM crime_against_women_new1 WHERE NOT DISTRICT='TOTAL' AND NOT DISTRICT='DELHI UT TOTAL' GROUP BY UT ORDER BY Kidnapping\")\n",
    "for row in result:\n",
    "    print(row)"
   ]
  },
  {
   "cell_type": "markdown",
   "id": "e959a6fb",
   "metadata": {},
   "source": [
    "# 3.7 To find the number of murders year-by-year and in ascending order by district, creating an SQL query."
   ]
  },
  {
   "cell_type": "code",
   "execution_count": 20,
   "id": "2b02eacf",
   "metadata": {},
   "outputs": [
    {
     "name": "stdout",
     "output_type": "stream",
     "text": [
      "('A & N ISLANDS', 'NICOBAR', 2001, 0)\n",
      "('ANDHRA PRADESH', 'GUNTAKAL RLY.', 2001, 0)\n",
      "('ARUNACHAL PRADESH', 'TAWANG', 2001, 0)\n",
      "('ASSAM', 'C.I.D.', 2001, 0)\n",
      "('BIHAR', 'ARWAL', 2001, 0)\n",
      "('CHHATTISGARH', 'BIZAPUR', 2001, 0)\n",
      "('DAMAN & DIU', 'DIU', 2001, 0)\n",
      "('DELHI', 'S.T.F.', 2001, 0)\n",
      "('GUJARAT', 'W.RLY', 2001, 0)\n",
      "('HARYANA', 'GRP', 2002, 0)\n",
      "('HIMACHAL PRADESH', 'G.R.P.', 2001, 0)\n",
      "('JAMMU & KASHMIR', 'CRIME JAMMU', 2001, 0)\n",
      "('JHARKHAND', 'DEOGHAR', 2001, 0)\n",
      "('KARNATAKA', 'CHITRADURGA', 2001, 0)\n",
      "('KERALA', 'CBCID', 2001, 0)\n",
      "('LAKSHADWEEP', 'LAKSHADWEEP', 2001, 0)\n",
      "('MADHYA PRADESH', 'INDORE RLY.', 2001, 0)\n",
      "('MAHARASHTRA', 'MUMBAI RLY.', 2001, 0)\n",
      "('MANIPUR', 'CHURACHANDPUR', 2001, 0)\n",
      "('MEGHALAYA', 'GARO HILLS EAST', 2001, 0)\n",
      "('MIZORAM', 'AIZAWL', 2001, 0)\n",
      "('NAGALAND', 'KIPHIRE', 2001, 0)\n",
      "('ODISHA', 'RAYAGADA', 2001, 0)\n",
      "('PUDUCHERRY', 'KARAIKAL', 2011, 0)\n",
      "('PUNJAB', 'G.R.P', 2001, 0)\n",
      "('RAJASTHAN', 'G.R.P.', 2003, 0)\n",
      "('SIKKIM', 'NORTH', 2001, 0)\n",
      "('TAMIL NADU', 'CHENNAI', 2001, 0)\n",
      "('TRIPURA', 'DHALAI', 2001, 0)\n",
      "('UTTAR PRADESH', 'MAHARAJGANJ', 2002, 0)\n",
      "('UTTARAKHAND', 'NAINITAL', 2001, 0)\n",
      "('WEST BENGAL', 'ASANSOL', 2001, 0)\n",
      "('GOA', 'NORTH GOA', 2001, 1)\n",
      "('D & N HAVELI', 'D and N HAVELI', 2001, 2)\n",
      "('CHANDIGARH', 'CHANDIGARH', 2003, 28)\n",
      "('STATE/UT', 'DISTRICT', 'Year', 'Kidnapping and Abduction')\n"
     ]
    }
   ],
   "source": [
    "result=cursor.execute(\"SELECT  state UT, DISTRICT ,Year ,MIN(Rape), MIN(Kidnapping) FROM crime_against_women_new1 WHERE NOT DISTRICT='TOTAL' AND NOT DISTRICT='DELHI UT TOTAL' GROUP BY UT ORDER BY Kidnapping\")\n",
    "for row in result:\n",
    "    print(row)"
   ]
  },
  {
   "cell_type": "markdown",
   "id": "3c714a86",
   "metadata": {},
   "source": [
    "# 3.8.1 Creating a new table and adding records from 01_District_wise_crimes_committed_IPC_2001_2012.csv, including only the columns for YEAR, MURDER, ATTEMPT TO MURDER, and RAPE."
   ]
  },
  {
   "cell_type": "code",
   "execution_count": 21,
   "id": "9c1a4843",
   "metadata": {},
   "outputs": [],
   "source": [
    "import pandas as pd"
   ]
  },
  {
   "cell_type": "code",
   "execution_count": 22,
   "id": "a3dcc532",
   "metadata": {},
   "outputs": [
    {
     "data": {
      "text/plain": [
       "<sqlite3.Cursor at 0x228637fe2c0>"
      ]
     },
     "execution_count": 22,
     "metadata": {},
     "output_type": "execute_result"
    }
   ],
   "source": [
    "cursor.execute (\"CREATE TABLE crime_ipc_new(STATE UT TEXT,DISTRICT TEXT,YEAR INT, MURDER INT,ATTEMPT_to_MURDER INT,RAPE INT) \")"
   ]
  },
  {
   "cell_type": "code",
   "execution_count": 23,
   "id": "0f13d245",
   "metadata": {},
   "outputs": [],
   "source": [
    "db.commit()"
   ]
  },
  {
   "cell_type": "code",
   "execution_count": 28,
   "id": "513ef93b",
   "metadata": {},
   "outputs": [
    {
     "name": "stdout",
     "output_type": "stream",
     "text": [
      "9018 records inserted.\n"
     ]
    }
   ],
   "source": [
    "cursor.execute(\"\"\"CREATE TABLE IF NOT EXISTS crime_ipc_new (state TEXT,district TEXT,year INTEGER,ipc_crimes INTEGER,total_cognizable_crimes INTEGER,population INTEGER)\"\"\")\n",
    "\n",
    "with open('42_District_wise_crimes_committed_against_women_2001_2012.csv', 'r') as file:\n",
    "    no_records = 0\n",
    "    for row in file:\n",
    "        # Split the row into values\n",
    "        values = row.strip().split(\",\")\n",
    "        \n",
    "        # Insert data into the table\n",
    "        cursor.execute(\"INSERT INTO crime_ipc_new VALUES(?,?,?,?,?,?)\", values[:6])\n",
    "        db.commit()\n",
    "        no_records += 1\n",
    "\n",
    "print(f\"{no_records} records inserted.\")"
   ]
  },
  {
   "cell_type": "markdown",
   "id": "8a82c88f",
   "metadata": {},
   "source": [
    "# 3.8.2 To determine which district in each state or territory has the most murders annually, creating an SQL query. The STATE/UT, YEAR, DISTRICT, and MURDERS to be displayed in our output."
   ]
  },
  {
   "cell_type": "code",
   "execution_count": 29,
   "id": "8e4ebee2",
   "metadata": {},
   "outputs": [
    {
     "name": "stdout",
     "output_type": "stream",
     "text": [
      "('STATE/UT', 'Year', 'DISTRICT', 'Rape')\n",
      "('WEST BENGAL', 2009, 'MURSHIDABAD', 568)\n",
      "('MAHARASHTRA', 2012, 'MUMBAI COMMR.', 232)\n",
      "('BIHAR', 2007, 'PURNEA', 219)\n",
      "('DELHI', 2005, 'NORTH-WEST', 190)\n",
      "('ASSAM', 2010, 'DHUBRI', 181)\n",
      "('MADHYA PRADESH', 2012, 'INDORE', 173)\n",
      "('CHHATTISGARH', 2002, 'RAIPUR', 159)\n",
      "('RAJASTHAN', 2012, 'UDAIPUR', 149)\n",
      "('KERALA', 2011, 'TRIVANDRUM RURAL', 140)\n",
      "('ANDHRA PRADESH', 2012, 'WEST GODAVARI', 130)\n",
      "('TRIPURA', 2010, 'WEST', 118)\n",
      "('ODISHA', 2005, 'MAYURBHANJ', 102)\n",
      "('JHARKHAND', 2005, 'RANCHI', 102)\n",
      "('KARNATAKA', 2011, 'BANGALORE COMMR.', 97)\n",
      "('TAMIL NADU', 2012, 'CHENNAI', 94)\n",
      "('UTTAR PRADESH', 2001, 'BAREILLY', 93)\n",
      "('PUNJAB', 2012, 'CP LUDHIANA', 69)\n",
      "('HARYANA', 2006, 'PANIPAT', 65)\n",
      "('GUJARAT', 2009, 'AHMEDABAD COMMR.', 63)\n",
      "('MEGHALAYA', 2012, 'KHASI HILLS EAST', 58)\n",
      "('UTTARAKHAND', 2012, 'HARIDWAR', 47)\n",
      "('MIZORAM', 2012, 'AIZAWL', 42)\n",
      "('JAMMU & KASHMIR', 2012, 'JAMMU', 39)\n",
      "('HIMACHAL PRADESH', 2004, 'SHIMLA', 34)\n",
      "('CHANDIGARH', 2005, 'CHANDIGARH', 33)\n",
      "('GOA', 2009, 'NORTH GOA', 31)\n",
      "('A & N ISLANDS', 2010, 'ANDAMAN', 23)\n",
      "('MANIPUR', 2011, 'THOUBAL', 21)\n",
      "('SIKKIM', 2012, 'EAST', 13)\n",
      "('ARUNACHAL PRADESH', 2005, 'SIANG EAST', 13)\n",
      "('NAGALAND', 2004, 'KOHIMA', 10)\n",
      "('PUDUCHERRY', 2001, 'PONDICHERRY', 9)\n",
      "('D & N HAVELI', 2004, 'D and N HAVELI', 7)\n",
      "('DAMAN & DIU', 2012, 'DAMAN', 5)\n",
      "('LAKSHADWEEP', 2003, 'LAKSHADWEEP', 2)\n"
     ]
    }
   ],
   "source": [
    "result=cursor.execute(\"SELECT  state UT, Year,DISTRICT ,MAX(MURDER) FROM crime_ipc_new WHERE NOT DISTRICT='TOTAL' AND NOT DISTRICT='DELHI UT TOTAL' GROUP BY UT ORDER BY MURDER DESC\")\n",
    "for row in result:\n",
    "    print(row)"
   ]
  },
  {
   "cell_type": "code",
   "execution_count": 30,
   "id": "6bebabcd",
   "metadata": {},
   "outputs": [],
   "source": [
    "\n",
    "dfsql=pd.read_sql(\"SELECT  state UT, Year,DISTRICT ,MAX(MURDER) AS Murder FROM crime_ipc_new WHERE NOT DISTRICT='TOTAL' AND NOT DISTRICT='DELHI UT TOTAL' GROUP BY UT ORDER BY MURDER DESC \",db)"
   ]
  },
  {
   "cell_type": "code",
   "execution_count": 31,
   "id": "24686a30",
   "metadata": {},
   "outputs": [
    {
     "data": {
      "text/html": [
       "<div>\n",
       "<style scoped>\n",
       "    .dataframe tbody tr th:only-of-type {\n",
       "        vertical-align: middle;\n",
       "    }\n",
       "\n",
       "    .dataframe tbody tr th {\n",
       "        vertical-align: top;\n",
       "    }\n",
       "\n",
       "    .dataframe thead th {\n",
       "        text-align: right;\n",
       "    }\n",
       "</style>\n",
       "<table border=\"1\" class=\"dataframe\">\n",
       "  <thead>\n",
       "    <tr style=\"text-align: right;\">\n",
       "      <th></th>\n",
       "      <th>UT</th>\n",
       "      <th>YEAR</th>\n",
       "      <th>DISTRICT</th>\n",
       "      <th>Murder</th>\n",
       "    </tr>\n",
       "  </thead>\n",
       "  <tbody>\n",
       "    <tr>\n",
       "      <th>0</th>\n",
       "      <td>STATE/UT</td>\n",
       "      <td>Year</td>\n",
       "      <td>DISTRICT</td>\n",
       "      <td>Rape</td>\n",
       "    </tr>\n",
       "    <tr>\n",
       "      <th>1</th>\n",
       "      <td>WEST BENGAL</td>\n",
       "      <td>2009</td>\n",
       "      <td>MURSHIDABAD</td>\n",
       "      <td>568</td>\n",
       "    </tr>\n",
       "    <tr>\n",
       "      <th>2</th>\n",
       "      <td>MAHARASHTRA</td>\n",
       "      <td>2012</td>\n",
       "      <td>MUMBAI COMMR.</td>\n",
       "      <td>232</td>\n",
       "    </tr>\n",
       "    <tr>\n",
       "      <th>3</th>\n",
       "      <td>BIHAR</td>\n",
       "      <td>2007</td>\n",
       "      <td>PURNEA</td>\n",
       "      <td>219</td>\n",
       "    </tr>\n",
       "    <tr>\n",
       "      <th>4</th>\n",
       "      <td>DELHI</td>\n",
       "      <td>2005</td>\n",
       "      <td>NORTH-WEST</td>\n",
       "      <td>190</td>\n",
       "    </tr>\n",
       "    <tr>\n",
       "      <th>5</th>\n",
       "      <td>ASSAM</td>\n",
       "      <td>2010</td>\n",
       "      <td>DHUBRI</td>\n",
       "      <td>181</td>\n",
       "    </tr>\n",
       "    <tr>\n",
       "      <th>6</th>\n",
       "      <td>MADHYA PRADESH</td>\n",
       "      <td>2012</td>\n",
       "      <td>INDORE</td>\n",
       "      <td>173</td>\n",
       "    </tr>\n",
       "    <tr>\n",
       "      <th>7</th>\n",
       "      <td>CHHATTISGARH</td>\n",
       "      <td>2002</td>\n",
       "      <td>RAIPUR</td>\n",
       "      <td>159</td>\n",
       "    </tr>\n",
       "    <tr>\n",
       "      <th>8</th>\n",
       "      <td>RAJASTHAN</td>\n",
       "      <td>2012</td>\n",
       "      <td>UDAIPUR</td>\n",
       "      <td>149</td>\n",
       "    </tr>\n",
       "    <tr>\n",
       "      <th>9</th>\n",
       "      <td>KERALA</td>\n",
       "      <td>2011</td>\n",
       "      <td>TRIVANDRUM RURAL</td>\n",
       "      <td>140</td>\n",
       "    </tr>\n",
       "    <tr>\n",
       "      <th>10</th>\n",
       "      <td>ANDHRA PRADESH</td>\n",
       "      <td>2012</td>\n",
       "      <td>WEST GODAVARI</td>\n",
       "      <td>130</td>\n",
       "    </tr>\n",
       "    <tr>\n",
       "      <th>11</th>\n",
       "      <td>TRIPURA</td>\n",
       "      <td>2010</td>\n",
       "      <td>WEST</td>\n",
       "      <td>118</td>\n",
       "    </tr>\n",
       "    <tr>\n",
       "      <th>12</th>\n",
       "      <td>ODISHA</td>\n",
       "      <td>2005</td>\n",
       "      <td>MAYURBHANJ</td>\n",
       "      <td>102</td>\n",
       "    </tr>\n",
       "    <tr>\n",
       "      <th>13</th>\n",
       "      <td>JHARKHAND</td>\n",
       "      <td>2005</td>\n",
       "      <td>RANCHI</td>\n",
       "      <td>102</td>\n",
       "    </tr>\n",
       "    <tr>\n",
       "      <th>14</th>\n",
       "      <td>KARNATAKA</td>\n",
       "      <td>2011</td>\n",
       "      <td>BANGALORE COMMR.</td>\n",
       "      <td>97</td>\n",
       "    </tr>\n",
       "    <tr>\n",
       "      <th>15</th>\n",
       "      <td>TAMIL NADU</td>\n",
       "      <td>2012</td>\n",
       "      <td>CHENNAI</td>\n",
       "      <td>94</td>\n",
       "    </tr>\n",
       "    <tr>\n",
       "      <th>16</th>\n",
       "      <td>UTTAR PRADESH</td>\n",
       "      <td>2001</td>\n",
       "      <td>BAREILLY</td>\n",
       "      <td>93</td>\n",
       "    </tr>\n",
       "    <tr>\n",
       "      <th>17</th>\n",
       "      <td>PUNJAB</td>\n",
       "      <td>2012</td>\n",
       "      <td>CP LUDHIANA</td>\n",
       "      <td>69</td>\n",
       "    </tr>\n",
       "    <tr>\n",
       "      <th>18</th>\n",
       "      <td>HARYANA</td>\n",
       "      <td>2006</td>\n",
       "      <td>PANIPAT</td>\n",
       "      <td>65</td>\n",
       "    </tr>\n",
       "    <tr>\n",
       "      <th>19</th>\n",
       "      <td>GUJARAT</td>\n",
       "      <td>2009</td>\n",
       "      <td>AHMEDABAD COMMR.</td>\n",
       "      <td>63</td>\n",
       "    </tr>\n",
       "    <tr>\n",
       "      <th>20</th>\n",
       "      <td>MEGHALAYA</td>\n",
       "      <td>2012</td>\n",
       "      <td>KHASI HILLS EAST</td>\n",
       "      <td>58</td>\n",
       "    </tr>\n",
       "    <tr>\n",
       "      <th>21</th>\n",
       "      <td>UTTARAKHAND</td>\n",
       "      <td>2012</td>\n",
       "      <td>HARIDWAR</td>\n",
       "      <td>47</td>\n",
       "    </tr>\n",
       "    <tr>\n",
       "      <th>22</th>\n",
       "      <td>MIZORAM</td>\n",
       "      <td>2012</td>\n",
       "      <td>AIZAWL</td>\n",
       "      <td>42</td>\n",
       "    </tr>\n",
       "    <tr>\n",
       "      <th>23</th>\n",
       "      <td>JAMMU &amp; KASHMIR</td>\n",
       "      <td>2012</td>\n",
       "      <td>JAMMU</td>\n",
       "      <td>39</td>\n",
       "    </tr>\n",
       "    <tr>\n",
       "      <th>24</th>\n",
       "      <td>HIMACHAL PRADESH</td>\n",
       "      <td>2004</td>\n",
       "      <td>SHIMLA</td>\n",
       "      <td>34</td>\n",
       "    </tr>\n",
       "    <tr>\n",
       "      <th>25</th>\n",
       "      <td>CHANDIGARH</td>\n",
       "      <td>2005</td>\n",
       "      <td>CHANDIGARH</td>\n",
       "      <td>33</td>\n",
       "    </tr>\n",
       "    <tr>\n",
       "      <th>26</th>\n",
       "      <td>GOA</td>\n",
       "      <td>2009</td>\n",
       "      <td>NORTH GOA</td>\n",
       "      <td>31</td>\n",
       "    </tr>\n",
       "    <tr>\n",
       "      <th>27</th>\n",
       "      <td>A &amp; N ISLANDS</td>\n",
       "      <td>2010</td>\n",
       "      <td>ANDAMAN</td>\n",
       "      <td>23</td>\n",
       "    </tr>\n",
       "    <tr>\n",
       "      <th>28</th>\n",
       "      <td>MANIPUR</td>\n",
       "      <td>2011</td>\n",
       "      <td>THOUBAL</td>\n",
       "      <td>21</td>\n",
       "    </tr>\n",
       "    <tr>\n",
       "      <th>29</th>\n",
       "      <td>SIKKIM</td>\n",
       "      <td>2012</td>\n",
       "      <td>EAST</td>\n",
       "      <td>13</td>\n",
       "    </tr>\n",
       "    <tr>\n",
       "      <th>30</th>\n",
       "      <td>ARUNACHAL PRADESH</td>\n",
       "      <td>2005</td>\n",
       "      <td>SIANG EAST</td>\n",
       "      <td>13</td>\n",
       "    </tr>\n",
       "    <tr>\n",
       "      <th>31</th>\n",
       "      <td>NAGALAND</td>\n",
       "      <td>2004</td>\n",
       "      <td>KOHIMA</td>\n",
       "      <td>10</td>\n",
       "    </tr>\n",
       "    <tr>\n",
       "      <th>32</th>\n",
       "      <td>PUDUCHERRY</td>\n",
       "      <td>2001</td>\n",
       "      <td>PONDICHERRY</td>\n",
       "      <td>9</td>\n",
       "    </tr>\n",
       "    <tr>\n",
       "      <th>33</th>\n",
       "      <td>D &amp; N HAVELI</td>\n",
       "      <td>2004</td>\n",
       "      <td>D and N HAVELI</td>\n",
       "      <td>7</td>\n",
       "    </tr>\n",
       "    <tr>\n",
       "      <th>34</th>\n",
       "      <td>DAMAN &amp; DIU</td>\n",
       "      <td>2012</td>\n",
       "      <td>DAMAN</td>\n",
       "      <td>5</td>\n",
       "    </tr>\n",
       "    <tr>\n",
       "      <th>35</th>\n",
       "      <td>LAKSHADWEEP</td>\n",
       "      <td>2003</td>\n",
       "      <td>LAKSHADWEEP</td>\n",
       "      <td>2</td>\n",
       "    </tr>\n",
       "  </tbody>\n",
       "</table>\n",
       "</div>"
      ],
      "text/plain": [
       "                   UT  YEAR          DISTRICT Murder\n",
       "0            STATE/UT  Year          DISTRICT   Rape\n",
       "1         WEST BENGAL  2009       MURSHIDABAD    568\n",
       "2         MAHARASHTRA  2012     MUMBAI COMMR.    232\n",
       "3               BIHAR  2007            PURNEA    219\n",
       "4               DELHI  2005        NORTH-WEST    190\n",
       "5               ASSAM  2010            DHUBRI    181\n",
       "6      MADHYA PRADESH  2012            INDORE    173\n",
       "7        CHHATTISGARH  2002            RAIPUR    159\n",
       "8           RAJASTHAN  2012           UDAIPUR    149\n",
       "9              KERALA  2011  TRIVANDRUM RURAL    140\n",
       "10     ANDHRA PRADESH  2012     WEST GODAVARI    130\n",
       "11            TRIPURA  2010              WEST    118\n",
       "12             ODISHA  2005        MAYURBHANJ    102\n",
       "13          JHARKHAND  2005            RANCHI    102\n",
       "14          KARNATAKA  2011  BANGALORE COMMR.     97\n",
       "15         TAMIL NADU  2012           CHENNAI     94\n",
       "16      UTTAR PRADESH  2001          BAREILLY     93\n",
       "17             PUNJAB  2012       CP LUDHIANA     69\n",
       "18            HARYANA  2006           PANIPAT     65\n",
       "19            GUJARAT  2009  AHMEDABAD COMMR.     63\n",
       "20          MEGHALAYA  2012  KHASI HILLS EAST     58\n",
       "21        UTTARAKHAND  2012          HARIDWAR     47\n",
       "22            MIZORAM  2012            AIZAWL     42\n",
       "23    JAMMU & KASHMIR  2012             JAMMU     39\n",
       "24   HIMACHAL PRADESH  2004            SHIMLA     34\n",
       "25         CHANDIGARH  2005        CHANDIGARH     33\n",
       "26                GOA  2009         NORTH GOA     31\n",
       "27      A & N ISLANDS  2010           ANDAMAN     23\n",
       "28            MANIPUR  2011           THOUBAL     21\n",
       "29             SIKKIM  2012              EAST     13\n",
       "30  ARUNACHAL PRADESH  2005        SIANG EAST     13\n",
       "31           NAGALAND  2004            KOHIMA     10\n",
       "32         PUDUCHERRY  2001       PONDICHERRY      9\n",
       "33       D & N HAVELI  2004    D and N HAVELI      7\n",
       "34        DAMAN & DIU  2012             DAMAN      5\n",
       "35        LAKSHADWEEP  2003       LAKSHADWEEP      2"
      ]
     },
     "execution_count": 31,
     "metadata": {},
     "output_type": "execute_result"
    }
   ],
   "source": [
    "#transforming to a dataframe\n",
    "dfsql\n"
   ]
  },
  {
   "cell_type": "markdown",
   "id": "b5159d60",
   "metadata": {},
   "source": [
    "# 3.8.3 The data (3.2 result) to be stored in a DataFrame. Districts that appear three or more years in the past to be analyzed, and the associated state/UT, district, murders, and year to be printed in decreasing order."
   ]
  },
  {
   "cell_type": "code",
   "execution_count": 32,
   "id": "b0fb01fc",
   "metadata": {},
   "outputs": [
    {
     "name": "stdout",
     "output_type": "stream",
     "text": [
      "('STATE/UT', 'DISTRICT', 'Year', 'Rape', 'Kidnapping and Abduction')\n",
      "('WEST BENGAL', 'MURSHIDABAD', 2011, 433, 492)\n",
      "('WEST BENGAL', 'MURSHIDABAD', 2012, 257, 464)\n",
      "('WEST BENGAL', 'MURSHIDABAD', 2010, 526, 441)\n",
      "('DELHI', 'NORTH-WEST', 2005, 236, 349)\n",
      "('WEST BENGAL', 'MURSHIDABAD', 2009, 568, 342)\n",
      "('UTTAR PRADESH', 'LUCKNOW', 2008, 334, 331)\n",
      "('DELHI', 'NORTH WEST', 2001, 145, 298)\n",
      "('DELHI', 'NORTH-WEST', 2006, 224, 287)\n",
      "('DELHI', 'NORTH WEST', 2002, 159, 259)\n",
      "('DELHI', 'OUTER', 2007, 369, 237)\n",
      "('ASSAM', 'GUWAHATI CITY', 2004, 197, 228)\n",
      "('DELHI', 'NORTH WEST', 2003, 137, 191)\n"
     ]
    }
   ],
   "source": [
    "#.3.2 Creating an SQL query to determine which state, district, and year had the greatest number of rapes and kidnappings.\n",
    "data=cursor.execute(\"SELECT  state UT, DISTRICT ,Year ,MAX(Rape), MAX(Kidnapping) FROM crime_against_women_new1 WHERE NOT DISTRICT='TOTAL' AND NOT DISTRICT='DELHI UT TOTAL' GROUP BY Year ORDER BY Kidnapping DESC\")\n",
    "for row in data:\n",
    "    print(row)"
   ]
  },
  {
   "cell_type": "markdown",
   "id": "973a4010",
   "metadata": {},
   "source": [
    "# Transforming to DataFrame"
   ]
  },
  {
   "cell_type": "code",
   "execution_count": 33,
   "id": "aee12021",
   "metadata": {},
   "outputs": [],
   "source": [
    "dataframe=pd.read_sql(\"SELECT  state UT, DISTRICT ,Year ,MAX(Rape) AS Rape, MAX(Kidnapping) AS Kidnapping FROM crime_against_women_new1 WHERE NOT DISTRICT='TOTAL' AND NOT DISTRICT='DELHI UT TOTAL' GROUP BY Year ORDER BY Kidnapping DESC\",db)"
   ]
  },
  {
   "cell_type": "code",
   "execution_count": 34,
   "id": "d651b67d",
   "metadata": {},
   "outputs": [
    {
     "data": {
      "text/html": [
       "<div>\n",
       "<style scoped>\n",
       "    .dataframe tbody tr th:only-of-type {\n",
       "        vertical-align: middle;\n",
       "    }\n",
       "\n",
       "    .dataframe tbody tr th {\n",
       "        vertical-align: top;\n",
       "    }\n",
       "\n",
       "    .dataframe thead th {\n",
       "        text-align: right;\n",
       "    }\n",
       "</style>\n",
       "<table border=\"1\" class=\"dataframe\">\n",
       "  <thead>\n",
       "    <tr style=\"text-align: right;\">\n",
       "      <th></th>\n",
       "      <th>UT</th>\n",
       "      <th>DISTRICT</th>\n",
       "      <th>Year</th>\n",
       "      <th>Rape</th>\n",
       "      <th>Kidnapping</th>\n",
       "    </tr>\n",
       "  </thead>\n",
       "  <tbody>\n",
       "    <tr>\n",
       "      <th>0</th>\n",
       "      <td>STATE/UT</td>\n",
       "      <td>DISTRICT</td>\n",
       "      <td>Year</td>\n",
       "      <td>Rape</td>\n",
       "      <td>Kidnapping and Abduction</td>\n",
       "    </tr>\n",
       "    <tr>\n",
       "      <th>1</th>\n",
       "      <td>WEST BENGAL</td>\n",
       "      <td>MURSHIDABAD</td>\n",
       "      <td>2011</td>\n",
       "      <td>433</td>\n",
       "      <td>492</td>\n",
       "    </tr>\n",
       "    <tr>\n",
       "      <th>2</th>\n",
       "      <td>WEST BENGAL</td>\n",
       "      <td>MURSHIDABAD</td>\n",
       "      <td>2012</td>\n",
       "      <td>257</td>\n",
       "      <td>464</td>\n",
       "    </tr>\n",
       "    <tr>\n",
       "      <th>3</th>\n",
       "      <td>WEST BENGAL</td>\n",
       "      <td>MURSHIDABAD</td>\n",
       "      <td>2010</td>\n",
       "      <td>526</td>\n",
       "      <td>441</td>\n",
       "    </tr>\n",
       "    <tr>\n",
       "      <th>4</th>\n",
       "      <td>DELHI</td>\n",
       "      <td>NORTH-WEST</td>\n",
       "      <td>2005</td>\n",
       "      <td>236</td>\n",
       "      <td>349</td>\n",
       "    </tr>\n",
       "    <tr>\n",
       "      <th>5</th>\n",
       "      <td>WEST BENGAL</td>\n",
       "      <td>MURSHIDABAD</td>\n",
       "      <td>2009</td>\n",
       "      <td>568</td>\n",
       "      <td>342</td>\n",
       "    </tr>\n",
       "    <tr>\n",
       "      <th>6</th>\n",
       "      <td>UTTAR PRADESH</td>\n",
       "      <td>LUCKNOW</td>\n",
       "      <td>2008</td>\n",
       "      <td>334</td>\n",
       "      <td>331</td>\n",
       "    </tr>\n",
       "    <tr>\n",
       "      <th>7</th>\n",
       "      <td>DELHI</td>\n",
       "      <td>NORTH WEST</td>\n",
       "      <td>2001</td>\n",
       "      <td>145</td>\n",
       "      <td>298</td>\n",
       "    </tr>\n",
       "    <tr>\n",
       "      <th>8</th>\n",
       "      <td>DELHI</td>\n",
       "      <td>NORTH-WEST</td>\n",
       "      <td>2006</td>\n",
       "      <td>224</td>\n",
       "      <td>287</td>\n",
       "    </tr>\n",
       "    <tr>\n",
       "      <th>9</th>\n",
       "      <td>DELHI</td>\n",
       "      <td>NORTH WEST</td>\n",
       "      <td>2002</td>\n",
       "      <td>159</td>\n",
       "      <td>259</td>\n",
       "    </tr>\n",
       "    <tr>\n",
       "      <th>10</th>\n",
       "      <td>DELHI</td>\n",
       "      <td>OUTER</td>\n",
       "      <td>2007</td>\n",
       "      <td>369</td>\n",
       "      <td>237</td>\n",
       "    </tr>\n",
       "    <tr>\n",
       "      <th>11</th>\n",
       "      <td>ASSAM</td>\n",
       "      <td>GUWAHATI CITY</td>\n",
       "      <td>2004</td>\n",
       "      <td>197</td>\n",
       "      <td>228</td>\n",
       "    </tr>\n",
       "    <tr>\n",
       "      <th>12</th>\n",
       "      <td>DELHI</td>\n",
       "      <td>NORTH WEST</td>\n",
       "      <td>2003</td>\n",
       "      <td>137</td>\n",
       "      <td>191</td>\n",
       "    </tr>\n",
       "  </tbody>\n",
       "</table>\n",
       "</div>"
      ],
      "text/plain": [
       "               UT       DISTRICT  Year  Rape                Kidnapping\n",
       "0        STATE/UT       DISTRICT  Year  Rape  Kidnapping and Abduction\n",
       "1     WEST BENGAL    MURSHIDABAD  2011   433                       492\n",
       "2     WEST BENGAL    MURSHIDABAD  2012   257                       464\n",
       "3     WEST BENGAL    MURSHIDABAD  2010   526                       441\n",
       "4           DELHI     NORTH-WEST  2005   236                       349\n",
       "5     WEST BENGAL    MURSHIDABAD  2009   568                       342\n",
       "6   UTTAR PRADESH        LUCKNOW  2008   334                       331\n",
       "7           DELHI     NORTH WEST  2001   145                       298\n",
       "8           DELHI     NORTH-WEST  2006   224                       287\n",
       "9           DELHI     NORTH WEST  2002   159                       259\n",
       "10          DELHI          OUTER  2007   369                       237\n",
       "11          ASSAM  GUWAHATI CITY  2004   197                       228\n",
       "12          DELHI     NORTH WEST  2003   137                       191"
      ]
     },
     "execution_count": 34,
     "metadata": {},
     "output_type": "execute_result"
    }
   ],
   "source": [
    "dataframe"
   ]
  },
  {
   "cell_type": "code",
   "execution_count": 35,
   "id": "2cdc7f98",
   "metadata": {},
   "outputs": [
    {
     "data": {
      "text/plain": [
       "MURSHIDABAD      4\n",
       "NORTH WEST       3\n",
       "NORTH-WEST       2\n",
       "DISTRICT         1\n",
       "LUCKNOW          1\n",
       "OUTER            1\n",
       "GUWAHATI CITY    1\n",
       "Name: DISTRICT, dtype: int64"
      ]
     },
     "execution_count": 35,
     "metadata": {},
     "output_type": "execute_result"
    }
   ],
   "source": [
    "dataframe['DISTRICT'].value_counts()"
   ]
  },
  {
   "cell_type": "markdown",
   "id": "35c6840e",
   "metadata": {},
   "source": [
    "It is evident from above that Murshidabad is the state that has been around for more than three years."
   ]
  },
  {
   "cell_type": "code",
   "execution_count": 36,
   "id": "ea2b2a3e",
   "metadata": {},
   "outputs": [],
   "source": [
    "from sqlalchemy import create_engine"
   ]
  },
  {
   "cell_type": "markdown",
   "id": "853b66b6",
   "metadata": {},
   "source": [
    "# Examining districts that have been there for three or more years, and printing the state/UT, district, number of homicides, and year in descending order."
   ]
  },
  {
   "cell_type": "code",
   "execution_count": 37,
   "id": "9f67f7d8",
   "metadata": {},
   "outputs": [],
   "source": [
    "engine = create_engine(\"sqlite+pysqlite:///:memory:\")"
   ]
  },
  {
   "cell_type": "code",
   "execution_count": 38,
   "id": "2728aa6c",
   "metadata": {},
   "outputs": [
    {
     "data": {
      "text/plain": [
       "13"
      ]
     },
     "execution_count": 38,
     "metadata": {},
     "output_type": "execute_result"
    }
   ],
   "source": [
    "dataframe.to_sql('district_data', engine)"
   ]
  },
  {
   "cell_type": "code",
   "execution_count": 39,
   "id": "fbe34aee",
   "metadata": {},
   "outputs": [],
   "source": [
    "from sqlalchemy import text"
   ]
  },
  {
   "cell_type": "code",
   "execution_count": 40,
   "id": "cefad3c8",
   "metadata": {},
   "outputs": [
    {
     "name": "stdout",
     "output_type": "stream",
     "text": [
      "('WEST BENGAL', 'MURSHIDABAD', '2011')\n",
      "('WEST BENGAL', 'MURSHIDABAD', '2012')\n",
      "('WEST BENGAL', 'MURSHIDABAD', '2010')\n"
     ]
    }
   ],
   "source": [
    "with engine.connect() as conn:\n",
    "    result = conn.execute(text(\"select UT, DISTRICT ,Year FROM district_data ORDER BY UT DESC LIMIT 3\"))\n",
    "    for row in result:\n",
    "        print(row)"
   ]
  },
  {
   "cell_type": "markdown",
   "id": "18904bf3",
   "metadata": {},
   "source": [
    "According to the West Bengal results above, Murshidabad is the district that showed up more than three times in a given year."
   ]
  },
  {
   "cell_type": "markdown",
   "id": "3e592038",
   "metadata": {},
   "source": [
    "# 3.8.4 Making use of the proper graphs to display our data (the 3.8.3)"
   ]
  },
  {
   "cell_type": "code",
   "execution_count": 41,
   "id": "945c26fe",
   "metadata": {},
   "outputs": [],
   "source": [
    "import matplotlib.pyplot as plt\n",
    "import seaborn as sns"
   ]
  },
  {
   "cell_type": "code",
   "execution_count": 43,
   "id": "8a77b938",
   "metadata": {},
   "outputs": [
    {
     "data": {
      "image/png": "[encoded data removed]",
      "text/plain": [
       "<Figure size 640x480 with 1 Axes>"
      ]
     },
     "metadata": {},
     "output_type": "display_data"
    }
   ],
   "source": [
    "dataframe['Rape'] = pd.to_numeric(dataframe['Rape'], errors='coerce')\n",
    "sns.barplot(x=dataframe['DISTRICT'], y=dataframe['Rape'])\n",
    "plt.xticks(rotation=90)\n",
    "plt.show()"
   ]
  },
  {
   "cell_type": "markdown",
   "id": "ef3f212f",
   "metadata": {},
   "source": [
    "According to the dataframe, the district in West Bengal with the highest number of rape cases is Murshidabad, whereas the district in Assam with the lowest number of rape crimes is Guwahati City."
   ]
  },
  {
   "cell_type": "markdown",
   "id": "b6b62bf4",
   "metadata": {},
   "source": [
    "# District vs. Kidnapping Analysis"
   ]
  },
  {
   "cell_type": "code",
   "execution_count": 45,
   "id": "0fe101b7",
   "metadata": {},
   "outputs": [
    {
     "data": {
      "image/png": "[encoded data removed]",
      "text/plain": [
       "<Figure size 640x480 with 1 Axes>"
      ]
     },
     "metadata": {},
     "output_type": "display_data"
    }
   ],
   "source": [
    "dataframe['Kidnapping'] = pd.to_numeric(dataframe['Kidnapping'], errors='coerce')\n",
    "sns.barplot(x=dataframe['DISTRICT'], y=dataframe['Kidnapping'])\n",
    "plt.xticks(rotation=90)\n",
    "plt.show()"
   ]
  },
  {
   "cell_type": "markdown",
   "id": "0d26112c",
   "metadata": {},
   "source": [
    "According to the resultant Dataframe, the district of Murshidabad in West Bengal has the largest number of kidnapping cases, while the district of Guwahati City in Assam has the lowest number of cases."
   ]
  },
  {
   "cell_type": "code",
   "execution_count": null,
   "id": "4f1827f3",
   "metadata": {},
   "outputs": [],
   "source": [
    "#next phase"
   ]
  }
 ],
 "metadata": {
  "kernelspec": {
   "display_name": "Python 3 (ipykernel)",
   "language": "python",
   "name": "python3"
  },
  "language_info": {
   "codemirror_mode": {
    "name": "ipython",
    "version": 3
   },
   "file_extension": ".py",
   "mimetype": "text/x-python",
   "name": "python",
   "nbconvert_exporter": "python",
   "pygments_lexer": "ipython3",
   "version": "3.11.4"
  }
 },
 "nbformat": 4,
 "nbformat_minor": 5
}
